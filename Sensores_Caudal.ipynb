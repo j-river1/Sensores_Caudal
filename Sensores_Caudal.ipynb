{
  "nbformat": 4,
  "nbformat_minor": 0,
  "metadata": {
    "colab": {
      "name": "Sensores_Caudal.ipynb",
      "provenance": [],
      "collapsed_sections": [],
      "mount_file_id": "1jYfCjyrredH-zJn628p9iMEipp-QOTgL",
      "authorship_tag": "ABX9TyPbf5zyVIjeAPIasb856Y0H",
      "include_colab_link": true
    },
    "kernelspec": {
      "name": "python3",
      "display_name": "Python 3"
    }
  },
  "cells": [
    {
      "cell_type": "markdown",
      "metadata": {
        "id": "view-in-github",
        "colab_type": "text"
      },
      "source": [
        "<a href=\"https://colab.research.google.com/github/j-river1/Sensores_Caudal/blob/master/Sensores_Caudal.ipynb\" target=\"_parent\"><img src=\"https://colab.research.google.com/assets/colab-badge.svg\" alt=\"Open In Colab\"/></a>"
      ]
    },
    {
      "cell_type": "markdown",
      "metadata": {
        "id": "PVouWM4fg8lJ",
        "colab_type": "text"
      },
      "source": [
        "#**Visualización y tratamiento de los datos de los sensores de caudal**\n",
        "\n",
        "\n",
        "---\n",
        "\n",
        "\n",
        "\n",
        "\n",
        "El siguiente codigo es para el tratamiento y visualización de los datos de los sensores de caudal. Estos sensores están ubicados en a los aforadores [UTAH ](https://studylib.es/doc/5067209/canaletas-portables-rbc-utah)  y están ubicados en la zona arrocera del norte de Perú. Estos sensores fueron implementados en esta zona para la medición de la cantidad de agua utilzada en el  bajo el proyecto ejecutado por la Alianza Bioversity y CIAT y Secretaria Técnica de CGIAR  (STC).\n",
        "\n",
        "\n",
        "Este código es elaborado usando [Google Colab](https://www.adictosaltrabajo.com/2019/06/04/google-colab-python-y-machine-learning-en-la-nube/), entre sus principales caracterisiticas vale la pena destacar que es un entorno gratuito de Jupyter Notebook que no requiere configuración y que se ejecuta completamente en la nube. \n",
        "\n",
        ">Requisitos de formato y organzación de los archivos.\n",
        "\n",
        "El tipo de archivos para este procesamiento debe ser de tipo JSON ya que es el formato original de datos que proviene de los sensores. Si los archivos están guardados en otro tipo de extensión como TXT se debe cambiar a JSON, windows permite cambiar la [extensión](https://www.isumsoft.com/windows-10/change-file-extension-for-one-or-multiple-files.html#:~:text=Another%20way%20to%20open%20the,name) y los [nombres](https://www.isumsoft.com/windows-10/rename-multiple-files-at-once-in-windows-10.html) de múltiples archivos simultáneamente . Posteriormente, todos los archivos deben estar guardados en una sola carpeta.\n",
        "\n",
        "\n"
      ]
    },
    {
      "cell_type": "markdown",
      "metadata": {
        "id": "_jO8VhF8Uu65",
        "colab_type": "text"
      },
      "source": [
        "\n",
        "> Conexión a los datos y unión de los archivos JSON\n",
        "\n",
        "Para la lectura de datos se debe copiar la carpeta en [google drive](https://www.google.com/intl/es-419_ALL/drive/using-drive/) de la misma manera que Google coolab es un servicio gratuito de almacentamiento. Una vez guardados, se realiza la conexión con este notebook se ingresa en la parte izquierda (Files -> Amount Dive). O también puede crear la conexión mediante el siguiente comando, una vez autenticados se debe copiar la contraseña en el link habilitado. Para mayor información puede consultar en [[1]](https://www.marktechpost.com/2019/06/07/how-to-connect-google-colab-with-google-drive/), [[2]](https://www.isumsoft.com/windows-10/rename-multiple-files-at-once-in-windows-10.html).\n"
      ]
    },
    {
      "cell_type": "code",
      "metadata": {
        "id": "cp2fAJhZUZRy",
        "colab_type": "code",
        "colab": {}
      },
      "source": [
        "from pydrive.auth import GoogleAuth\n",
        "from pydrive.drive import GoogleDrive\n",
        "from google.colab import auth\n",
        "from oauth2client.client import GoogleCredentials\n",
        "\n",
        "# Auntetificación para crear la conexión.\n",
        "auth.authenticate_user()\n",
        "gauth = GoogleAuth()\n",
        "gauth.credentials = GoogleCredentials.get_application_default()\n",
        "drive = GoogleDrive(gauth)\n"
      ],
      "execution_count": 1,
      "outputs": []
    },
    {
      "cell_type": "markdown",
      "metadata": {
        "id": "XWKRUrV_cHj2",
        "colab_type": "text"
      },
      "source": [
        "Ya creada la conexión, se debe seleccionar la carpeta de los datos, generalmente está ubicada en la carpeta *content/drive*, estos archivos están ubicados en el lado izquierdo de notebook."
      ]
    },
    {
      "cell_type": "code",
      "metadata": {
        "id": "32AXhouDPkxN",
        "colab_type": "code",
        "colab": {}
      },
      "source": [
        "import pandas as pd\n",
        "import glob\n",
        "\n",
        "\n",
        "def concatenearArchivos_Json (mypath):\n",
        " ''' Esta función recibe la dirección de la carpeta donde estan los archivos Json\n",
        "     y devuelve un dataframe con la unión de todos los archivos.\n",
        "\n",
        "     Parametros:\n",
        "     mypath = La dirección donde están guardados los archivos Json\n",
        " '''\n",
        " all_files = glob.glob(mypath + \"/*.json\")\n",
        "\n",
        " lista = []\n",
        "\n",
        " for filename in all_files:\n",
        "    df = pd.read_json(filename, lines=True)\n",
        "    #print(filename)\n",
        "    #print (df.head())\n",
        "    lista.append(df)\n",
        "  #Concatenear todos los archivos JSON\n",
        " dfs = pd.concat(lista, axis=0, ignore_index = True)\n",
        "\n",
        "  #Devuelve dataframe\n",
        " return dfs \n"
      ],
      "execution_count": 4,
      "outputs": []
    },
    {
      "cell_type": "markdown",
      "metadata": {
        "id": "ox9NBLL0Nc6u",
        "colab_type": "text"
      },
      "source": [
        "En la variable mypath debe colocar la ubicación del directorio de los archivos, haciendo click derecho sobre la carpeta obtiene la dirección. En este caso la dirección donde están los archivos es *'/content/drive/My Drive/Agua Peru/Agua'*."
      ]
    },
    {
      "cell_type": "code",
      "metadata": {
        "id": "UBpYbcvCNgnr",
        "colab_type": "code",
        "colab": {}
      },
      "source": [
        "mypath = '/content/drive/My Drive/Agua Peru/Agua'\n",
        "datos_unidos = concatenearArchivos_Json (mypath = '/content/drive/My Drive/Agua Peru/Agua')\n"
      ],
      "execution_count": 5,
      "outputs": []
    },
    {
      "cell_type": "markdown",
      "metadata": {
        "id": "YUu0e4n7PJ_R",
        "colab_type": "text"
      },
      "source": [
        "\n",
        "> Transformación y descripción de las variables \n",
        "\n",
        "En este [documento](https://github.com/j-river1/Sensores_Caudal/blob/master/Descripcion_variables.md) está la descrición de las variables utilizadas en el proyecto y la respectivas transformaciones realizadas a los datos. Además de estas transformaciones es necesarios convertir el tiempo registrado del sensor,  de  [timestamp](https://www.programiz.com/python-programming/datetime/timestamp-datetime) a tiempo real.\n"
      ]
    },
    {
      "cell_type": "code",
      "metadata": {
        "id": "DzCWln3Yeg-F",
        "colab_type": "code",
        "colab": {
          "base_uri": "https://localhost:8080/",
          "height": 302
        },
        "outputId": "fa433494-57cb-459a-cccc-49f7a0f038da"
      },
      "source": [
        "from datetime import datetime\n",
        "\n",
        "\n",
        "def transformacion (datos_unidos):\n",
        "  '''\n",
        "    Esta función transforma las variables para el calculo del caudal, volumen y \n",
        "    humedad del suelo.\n",
        "\n",
        "    Esta función retorna un dataframe con las transformaciones\n",
        "  '''\n",
        "\n",
        "  #Convertir timestamp a tiempo real \n",
        "  datos_unidos['tiempo_real'] = datos_unidos['t']/1000\n",
        "  datos_unidos['tiempo_real'] = datos_unidos['tiempo_real'].astype(int)\n",
        "  datos_unidos['tiempo_real'] = datos_unidos['tiempo_real'].apply(datetime.fromtimestamp)\n",
        "\n",
        "  #Caudal\n",
        "  datos_unidos['caudal'] = 0.08693607*(abs(datos_unidos['h00']- datos_unidos['h01']))**(1.9322)\n",
        "\n",
        "  #Volumen \n",
        "  datos_unidos['volumen'] = datos_unidos['caudal']*datos_unidos['f']*60/1000\n",
        "\n",
        "  #Humedad del suelo \n",
        "  datos_unidos['gs00'] = datos_unidos['gs00'].astype(int)\n",
        "  datos_unidos['humedad_suelo'] = 0 \n",
        "  datos_unidos.loc[(datos_unidos['gs01'] <= 714)  | (datos_unidos['gs01'] > 480), 'humedad_suelo'] = 0.235*(datos_unidos['gs00'] - 480)\n",
        "  datos_unidos.loc[datos_unidos['gs01'] < 480, 'humedad_suelo'] = 0\n",
        "\n",
        "  #if datos_unidos['gs00'] >= 480:\n",
        "  #  datos_unidos['humedad_suelo'] = 0.235*(datos_unidos['hr00'] - 480)\n",
        "  #else:\n",
        "  # datos_unidos['humedad_suelo'] = 0.115*(datos_unidos['hr00'] - 245)\n",
        "\n",
        "  #Retornar el data frame \n",
        "  return datos_unidos \n",
        "\n",
        "transformacion (datos_unidos).describe()\n"
      ],
      "execution_count": 7,
      "outputs": [
        {
          "output_type": "execute_result",
          "data": {
            "text/html": [
              "<div>\n",
              "<style scoped>\n",
              "    .dataframe tbody tr th:only-of-type {\n",
              "        vertical-align: middle;\n",
              "    }\n",
              "\n",
              "    .dataframe tbody tr th {\n",
              "        vertical-align: top;\n",
              "    }\n",
              "\n",
              "    .dataframe thead th {\n",
              "        text-align: right;\n",
              "    }\n",
              "</style>\n",
              "<table border=\"1\" class=\"dataframe\">\n",
              "  <thead>\n",
              "    <tr style=\"text-align: right;\">\n",
              "      <th></th>\n",
              "      <th>ts</th>\n",
              "      <th>t</th>\n",
              "      <th>p00</th>\n",
              "      <th>pf00</th>\n",
              "      <th>tm00</th>\n",
              "      <th>hr00</th>\n",
              "      <th>bs00</th>\n",
              "      <th>dv00</th>\n",
              "      <th>vv00</th>\n",
              "      <th>gs00</th>\n",
              "      <th>gs01</th>\n",
              "      <th>h00</th>\n",
              "      <th>h01</th>\n",
              "      <th>ctSD</th>\n",
              "      <th>b</th>\n",
              "      <th>f</th>\n",
              "      <th>caudal</th>\n",
              "      <th>volumen</th>\n",
              "      <th>humedad_suelo</th>\n",
              "    </tr>\n",
              "  </thead>\n",
              "  <tbody>\n",
              "    <tr>\n",
              "      <th>count</th>\n",
              "      <td>3.718000e+04</td>\n",
              "      <td>3.718000e+04</td>\n",
              "      <td>37180.0</td>\n",
              "      <td>37180.0</td>\n",
              "      <td>37180.0</td>\n",
              "      <td>37180.0</td>\n",
              "      <td>37180.000000</td>\n",
              "      <td>37180.000000</td>\n",
              "      <td>37180.0</td>\n",
              "      <td>37180.000000</td>\n",
              "      <td>37180.000000</td>\n",
              "      <td>37180.000000</td>\n",
              "      <td>37180.000000</td>\n",
              "      <td>37180.00000</td>\n",
              "      <td>37180.000000</td>\n",
              "      <td>37180.0</td>\n",
              "      <td>37180.000000</td>\n",
              "      <td>37180.000000</td>\n",
              "      <td>37180.000000</td>\n",
              "    </tr>\n",
              "    <tr>\n",
              "      <th>mean</th>\n",
              "      <td>1.557415e+12</td>\n",
              "      <td>1.557415e+12</td>\n",
              "      <td>0.0</td>\n",
              "      <td>0.0</td>\n",
              "      <td>0.0</td>\n",
              "      <td>0.0</td>\n",
              "      <td>601.749731</td>\n",
              "      <td>552.198516</td>\n",
              "      <td>0.0</td>\n",
              "      <td>601.567751</td>\n",
              "      <td>288.074960</td>\n",
              "      <td>51.648055</td>\n",
              "      <td>48.746904</td>\n",
              "      <td>704.18787</td>\n",
              "      <td>76.097095</td>\n",
              "      <td>10.0</td>\n",
              "      <td>5.688566</td>\n",
              "      <td>3.413139</td>\n",
              "      <td>1.176694</td>\n",
              "    </tr>\n",
              "    <tr>\n",
              "      <th>std</th>\n",
              "      <td>6.560667e+09</td>\n",
              "      <td>6.560667e+09</td>\n",
              "      <td>0.0</td>\n",
              "      <td>0.0</td>\n",
              "      <td>0.0</td>\n",
              "      <td>0.0</td>\n",
              "      <td>268.727216</td>\n",
              "      <td>189.104053</td>\n",
              "      <td>0.0</td>\n",
              "      <td>213.050641</td>\n",
              "      <td>195.606732</td>\n",
              "      <td>10.539123</td>\n",
              "      <td>12.151041</td>\n",
              "      <td>847.63583</td>\n",
              "      <td>12.505063</td>\n",
              "      <td>0.0</td>\n",
              "      <td>12.659447</td>\n",
              "      <td>7.595668</td>\n",
              "      <td>6.868728</td>\n",
              "    </tr>\n",
              "    <tr>\n",
              "      <th>min</th>\n",
              "      <td>1.546301e+12</td>\n",
              "      <td>1.546301e+12</td>\n",
              "      <td>0.0</td>\n",
              "      <td>0.0</td>\n",
              "      <td>0.0</td>\n",
              "      <td>0.0</td>\n",
              "      <td>9.000000</td>\n",
              "      <td>32.230000</td>\n",
              "      <td>0.0</td>\n",
              "      <td>25.000000</td>\n",
              "      <td>0.000000</td>\n",
              "      <td>0.000000</td>\n",
              "      <td>0.000000</td>\n",
              "      <td>0.00000</td>\n",
              "      <td>24.000000</td>\n",
              "      <td>10.0</td>\n",
              "      <td>0.000000</td>\n",
              "      <td>0.000000</td>\n",
              "      <td>-17.390000</td>\n",
              "    </tr>\n",
              "    <tr>\n",
              "      <th>25%</th>\n",
              "      <td>1.551722e+12</td>\n",
              "      <td>1.551722e+12</td>\n",
              "      <td>0.0</td>\n",
              "      <td>0.0</td>\n",
              "      <td>0.0</td>\n",
              "      <td>0.0</td>\n",
              "      <td>432.000000</td>\n",
              "      <td>433.400000</td>\n",
              "      <td>0.0</td>\n",
              "      <td>483.000000</td>\n",
              "      <td>117.000000</td>\n",
              "      <td>54.200000</td>\n",
              "      <td>53.200000</td>\n",
              "      <td>7.00000</td>\n",
              "      <td>67.000000</td>\n",
              "      <td>10.0</td>\n",
              "      <td>0.001016</td>\n",
              "      <td>0.000610</td>\n",
              "      <td>0.000000</td>\n",
              "    </tr>\n",
              "    <tr>\n",
              "      <th>50%</th>\n",
              "      <td>1.557033e+12</td>\n",
              "      <td>1.557033e+12</td>\n",
              "      <td>0.0</td>\n",
              "      <td>0.0</td>\n",
              "      <td>0.0</td>\n",
              "      <td>0.0</td>\n",
              "      <td>434.000000</td>\n",
              "      <td>447.480000</td>\n",
              "      <td>0.0</td>\n",
              "      <td>484.000000</td>\n",
              "      <td>246.000000</td>\n",
              "      <td>54.400000</td>\n",
              "      <td>54.100000</td>\n",
              "      <td>340.00000</td>\n",
              "      <td>79.000000</td>\n",
              "      <td>10.0</td>\n",
              "      <td>0.008490</td>\n",
              "      <td>0.005094</td>\n",
              "      <td>0.000000</td>\n",
              "    </tr>\n",
              "    <tr>\n",
              "      <th>75%</th>\n",
              "      <td>1.563219e+12</td>\n",
              "      <td>1.563219e+12</td>\n",
              "      <td>0.0</td>\n",
              "      <td>0.0</td>\n",
              "      <td>0.0</td>\n",
              "      <td>0.0</td>\n",
              "      <td>907.000000</td>\n",
              "      <td>743.080000</td>\n",
              "      <td>0.0</td>\n",
              "      <td>837.000000</td>\n",
              "      <td>485.000000</td>\n",
              "      <td>54.600000</td>\n",
              "      <td>54.400000</td>\n",
              "      <td>1186.00000</td>\n",
              "      <td>88.000000</td>\n",
              "      <td>10.0</td>\n",
              "      <td>0.086936</td>\n",
              "      <td>0.052162</td>\n",
              "      <td>0.705000</td>\n",
              "    </tr>\n",
              "    <tr>\n",
              "      <th>max</th>\n",
              "      <td>1.568712e+12</td>\n",
              "      <td>1.568712e+12</td>\n",
              "      <td>0.0</td>\n",
              "      <td>0.0</td>\n",
              "      <td>0.0</td>\n",
              "      <td>0.0</td>\n",
              "      <td>1167.000000</td>\n",
              "      <td>3593.520000</td>\n",
              "      <td>0.0</td>\n",
              "      <td>1022.000000</td>\n",
              "      <td>582.000000</td>\n",
              "      <td>59.500000</td>\n",
              "      <td>110.600000</td>\n",
              "      <td>3257.00000</td>\n",
              "      <td>90.000000</td>\n",
              "      <td>10.0</td>\n",
              "      <td>251.828382</td>\n",
              "      <td>151.097029</td>\n",
              "      <td>123.845000</td>\n",
              "    </tr>\n",
              "  </tbody>\n",
              "</table>\n",
              "</div>"
            ],
            "text/plain": [
              "                 ts             t  ...       volumen  humedad_suelo\n",
              "count  3.718000e+04  3.718000e+04  ...  37180.000000   37180.000000\n",
              "mean   1.557415e+12  1.557415e+12  ...      3.413139       1.176694\n",
              "std    6.560667e+09  6.560667e+09  ...      7.595668       6.868728\n",
              "min    1.546301e+12  1.546301e+12  ...      0.000000     -17.390000\n",
              "25%    1.551722e+12  1.551722e+12  ...      0.000610       0.000000\n",
              "50%    1.557033e+12  1.557033e+12  ...      0.005094       0.000000\n",
              "75%    1.563219e+12  1.563219e+12  ...      0.052162       0.705000\n",
              "max    1.568712e+12  1.568712e+12  ...    151.097029     123.845000\n",
              "\n",
              "[8 rows x 19 columns]"
            ]
          },
          "metadata": {
            "tags": []
          },
          "execution_count": 7
        }
      ]
    },
    {
      "cell_type": "code",
      "metadata": {
        "id": "iqY1RegPmzvE",
        "colab_type": "code",
        "colab": {}
      },
      "source": [
        ""
      ],
      "execution_count": null,
      "outputs": []
    },
    {
      "cell_type": "markdown",
      "metadata": {
        "id": "Z7r6yAtcl1Go",
        "colab_type": "text"
      },
      "source": [
        "\n",
        "\n",
        "\n",
        "\n",
        "\n",
        "> Visualización de datos \n",
        "\n",
        "En esta sección se grafica los datos de caudal, volumen y humedad del suelo.\n",
        "\n",
        "\n",
        "\n"
      ]
    },
    {
      "cell_type": "code",
      "metadata": {
        "id": "kcvqDTQOc-A7",
        "colab_type": "code",
        "colab": {
          "base_uri": "https://localhost:8080/",
          "height": 643
        },
        "outputId": "21f1124d-bbab-4c44-866f-f1ba4f921378"
      },
      "source": [
        "# libraries\n",
        "import matplotlib.pyplot as plt\n",
        "import numpy as np\n",
        "import pandas as pd\n",
        "\n",
        "datos = transformacion(datos_unidos)\n",
        "\n",
        "def graficas (datos, periodo = 1):\n",
        "  '''\n",
        "  Esta función es para graficar los datos. \n",
        "\n",
        "  Los parametros de la función:\n",
        "   periodo. Esta parametro es para agregación del tiempo:\n",
        "             1. Diario\n",
        "             2. Mensual  \n",
        "  '''\n",
        "\n",
        "  plt.figure(figsize=(20,10))\n",
        "  #datos = transformacion (datos_unidos)\n",
        "\n",
        "  #index\n",
        "  datos['tiempo_real'] = pd.to_datetime(datos['tiempo_real'])\n",
        "  datos.index = datos['tiempo_real'] \n",
        "\n",
        "  #agruación por  mes \n",
        "  datos.groupby(datos['tiempo_real']).size()\n",
        "  datos_graficas = datos.resample('M').sum()\n",
        "\n",
        "  #Grafica de barras por mes\n",
        "  datos_graficas['volumen'].plot.bar(rot=0)\n",
        "  plt.title(\"Volumen mensual de agua \", loc='center', fontsize=18, fontweight=0, color='black')\n",
        "  plt.xlabel(\"Mensual\")\n",
        "  plt.ylabel(\"Litros\")\n",
        "\n",
        "  #datos_graficas = datos_graficas.fillna(0)\n",
        "  #datos_graficas= (datos_graficas['tiempo_real'] > '2019-1-01') & (datos_graficas['tiempo_real'] <= '2019-12-31')\n",
        "  \n",
        "  #plt.plot( 'tiempo_real', 'volumen', data= datos_graficas, marker='o', markerfacecolor='blue', markersize=12, color='skyblue', linewidth=4)\n",
        "  #plt.bar( 'tiempo_real','volumen', data= datos_graficas, marker='o', markerfacecolor='blue', markersize=12, color='skyblue', linewidth=4) \n",
        "  #plt.title(\"Volumen mensual de agua \", loc='center', fontsize=18, fontweight=0, color='black')\n",
        "  #plt.xlabel(\"Mensual\")\n",
        "  #plt.ylabel(\"Litros\")\n",
        "  #plt.plot( 'volumen', data= datos_graficas, marker='o', markerfacecolor='blue', markersize=12, color='skyblue', linewidth=4)\n",
        "  #plt.bar( 'volumen', data= datos_graficas, marker='o', markerfacecolor='blue', markersize=12, color='skyblue', linewidth=4)\n",
        "  #plt.plot( 'tiempo_real', 'humedad_suelo', data=transformacion (datos_graficas), marker='', color='olive', linewidth=2)\n",
        "  #plt.plot( 'tiempo_real', 'caudal', data=transformacion (datos_graficas), marker='', color='olive', linewidth=2, linestyle='dashed', label=\"toto\")\n",
        "  #plt.legend()\n",
        "  #return datos_graficas\n",
        "\n",
        "\n",
        "ex = graficas(datos)\n",
        "\n",
        "#ax = ex['volumen'].plot.bar(rot=0)\n",
        "#datos\n",
        "#type(datos['tiempo_real'])\n",
        "#pd.to_datetime(datos['tiempo_real'])\n",
        "\n",
        "\n",
        "\n",
        "#def graficos (datos):\n",
        "#  plt.figure(figsize=(20,10))\n",
        "#  datos = \n",
        "\n",
        "#ex.columns\n",
        "#type(ex)\n",
        "print(ex)\n",
        "#plt.figure(figsize=(20,10))\n",
        "\n",
        "# multiple line plot\n",
        "#plt.plot( 'tiempo_real', 'volumen', data=transformacion (datos_unidos), marker='o', markerfacecolor='blue', markersize=12, color='skyblue', linewidth=4)\n",
        "#plt.plot( 'tiempo_real', 'humedad_suelo', data=transformacion (datos_unidos), marker='', color='olive', linewidth=2)\n",
        "#plt.plot( 'tiempo_real', 'caudal', data=transformacion (datos_unidos), marker='', color='olive', linewidth=2, linestyle='dashed', label=\"toto\")\n",
        "#plt.legend()\n"
      ],
      "execution_count": 94,
      "outputs": [
        {
          "output_type": "stream",
          "text": [
            "None\n"
          ],
          "name": "stdout"
        },
        {
          "output_type": "display_data",
          "data": {
            "image/png": "[encoded data removed]",
            "text/plain": [
              "<Figure size 1440x720 with 1 Axes>"
            ]
          },
          "metadata": {
            "tags": [],
            "needs_background": "light"
          }
        }
      ]
    },
    {
      "cell_type": "code",
      "metadata": {
        "id": "23BP9K4roIPp",
        "colab_type": "code",
        "colab": {}
      },
      "source": [
        "import numpy as np\n",
        "import bokeh\n",
        "#bokeh.sampledata.download()\n",
        "from bokeh.io import show\n",
        "from bokeh.layouts import column\n",
        "from bokeh.models import ColumnDataSource, RangeTool\n",
        "from bokeh.plotting import figure\n",
        "from bokeh.sampledata.stocks import AAPL\n",
        "\n",
        "dates = np.array(AAPL['date'], dtype=np.datetime64)\n",
        "source = ColumnDataSource(data=dict(date=dates, close=AAPL['adj_close']))\n",
        "\n",
        "p = figure(plot_height=300, plot_width=800, tools=\"xpan\", toolbar_location=None,\n",
        "           x_axis_type=\"datetime\", x_axis_location=\"above\",\n",
        "           background_fill_color=\"#efefef\", x_range=(dates[1500], dates[2500]))\n",
        "\n",
        "p.line('date', 'close', source=source)\n",
        "p.yaxis.axis_label = 'Price'\n",
        "\n",
        "select = figure(title=\"Drag the middle and edges of the selection box to change the range above\",\n",
        "                plot_height=130, plot_width=800, y_range=p.y_range,\n",
        "                x_axis_type=\"datetime\", y_axis_type=None,\n",
        "                tools=\"\", toolbar_location=None, background_fill_color=\"#efefef\")\n",
        "\n",
        "range_tool = RangeTool(x_range=p.x_range)\n",
        "range_tool.overlay.fill_color = \"navy\"\n",
        "range_tool.overlay.fill_alpha = 0.2\n",
        "\n",
        "select.line('date', 'close', source=source)\n",
        "select.ygrid.grid_line_color = None\n",
        "select.add_tools(range_tool)\n",
        "select.toolbar.active_multi = range_tool\n",
        "\n",
        "show(column(p, select))"
      ],
      "execution_count": 87,
      "outputs": []
    },
    {
      "cell_type": "code",
      "metadata": {
        "id": "zEPsW_e-E6xU",
        "colab_type": "code",
        "colab": {}
      },
      "source": [
        "#import jupytab\n",
        "\n",
        "#def dynamic_df():\n",
        "#    return pd.DataFrame([[1, 2, 3], [4, 5, 6], [7, 8, 9]], columns=['a', 'b', 'c'])\n",
        "\n",
        "#tables = jupytab.Tables()  # Publication-ready tables contained by this notebook\n",
        "\n",
        "# Example 1: Static data: it will never change on the Tableau side:\n",
        "#static_df = dynamic_df()\n",
        "#tables['static'] = jupytab.DataFrameTable('A static table', dataframe=static_df)\n",
        "\n",
        "#jupytab --config=config.ini"
      ],
      "execution_count": null,
      "outputs": []
    },
    {
      "cell_type": "code",
      "metadata": {
        "id": "DDr1iO97Jkzo",
        "colab_type": "code",
        "colab": {}
      },
      "source": [
        "#data = [json.loads(line) for line in open('/content/drive/My Drive/Agua Peru/Agua/Marzo (21).json', 'r')]\n",
        "\n",
        "#data"
      ],
      "execution_count": null,
      "outputs": []
    },
    {
      "cell_type": "code",
      "metadata": {
        "id": "EL32mx6_Nrk9",
        "colab_type": "code",
        "colab": {}
      },
      "source": [
        "#import pandas as pd\n",
        "#df = pd.read_json(r'/content/drive/My Drive/Agua Peru/Agua/Marzo (21).json',  lines=True)\n",
        "#print (df)"
      ],
      "execution_count": null,
      "outputs": []
    },
    {
      "cell_type": "code",
      "metadata": {
        "id": "F2TAnCvHR1Bm",
        "colab_type": "code",
        "colab": {
          "base_uri": "https://localhost:8080/",
          "height": 67
        },
        "outputId": "ee9f923d-432d-4583-cceb-72067a58c317"
      },
      "source": [
        "\n",
        "datos_unidos.columns"
      ],
      "execution_count": null,
      "outputs": [
        {
          "output_type": "execute_result",
          "data": {
            "text/plain": [
              "Index(['ts', 't', 'p00', 'pf00', 'tm00', 'hr00', 'bs00', 'dv00', 'vv00',\n",
              "       'gs00', 'gs01', 'h00', 'h01', 'ctSD', 'b', 'f'],\n",
              "      dtype='object')"
            ]
          },
          "metadata": {
            "tags": []
          },
          "execution_count": 41
        }
      ]
    },
    {
      "cell_type": "markdown",
      "metadata": {
        "id": "BUBBLonVi71G",
        "colab_type": "text"
      },
      "source": [
        "### 1.2 Unión de los archivos JSON\n",
        "\n",
        "Una vez se tiene los archivos JSON se procede a unirlos en un solo archivo.  Generalmente los datos enviados desde\n",
        "los sensores están guardados por dia  y están organizados por meses, por ejemplo, en la siguiente figura se muestra los meses de enero a septiembre (a) y los nueve primeros dias del mes de septiembre.\n",
        "\n",
        "<div style=\"width: 100%; clear: both;\">\n",
        "<div style=\"float: left; width: 50%;\">\n",
        "<img src=\"https://github.com/j-river1/Sensores_Caudal/blob/master/OrganizacionFolderes_2.png?raw=true\", align=\"left\">\n",
        "\n"
      ]
    },
    {
      "cell_type": "markdown",
      "metadata": {
        "id": "l9TRTNgw8yvS",
        "colab_type": "text"
      },
      "source": [
        "> Lectura de los datos\n",
        "\n",
        "Para la lectura de los datos se debe guardar los datos en goolge Drive, como se muestra en la siguiente figura. Se debe ingresar por files y activar la opción de unmount Drive (1), una vez activada la opción aparece la carpeta drive (2).\n",
        "\n",
        "<div style=\"width: 100%; clear: both;\">\n",
        "<div style=\"float: left; width: 50%;\">\n",
        "<img src=\"https://github.com/j-river1/Sensores_Caudal/blob/master/ConexionDrive.png?raw=true\", align=\"left\">\n",
        "\n"
      ]
    },
    {
      "cell_type": "code",
      "metadata": {
        "id": "tOvkCKHwpCp8",
        "colab_type": "code",
        "colab": {}
      },
      "source": [
        "from os import listdir\n",
        "from os.path import isfile, join\n",
        "\n",
        "#mypath = '/content/drive/My Drive/Datos sensores caudal/2019/01'\n",
        "\n",
        "#onlyfiles = [f for f in listdir(mypath) if isfile(join(mypath, f))]\n",
        "\n",
        "#onlyfiles \n"
      ],
      "execution_count": null,
      "outputs": []
    },
    {
      "cell_type": "code",
      "metadata": {
        "id": "cwhNLS8htZkx",
        "colab_type": "code",
        "colab": {
          "base_uri": "https://localhost:8080/",
          "height": 34
        },
        "outputId": "fa2bc07a-1e90-4ab2-b872-5ec21e864942"
      },
      "source": [
        ""
      ],
      "execution_count": null,
      "outputs": [
        {
          "output_type": "execute_result",
          "data": {
            "text/plain": [
              "<pydrive.drive.GoogleDrive at 0x7f1dadea3518>"
            ]
          },
          "metadata": {
            "tags": []
          },
          "execution_count": 6
        }
      ]
    },
    {
      "cell_type": "code",
      "metadata": {
        "id": "3-hadj5TtC0L",
        "colab_type": "code",
        "colab": {}
      },
      "source": [
        ""
      ],
      "execution_count": null,
      "outputs": []
    },
    {
      "cell_type": "markdown",
      "metadata": {
        "id": "83RAF1wIi75G",
        "colab_type": "text"
      },
      "source": [
        ""
      ]
    },
    {
      "cell_type": "markdown",
      "metadata": {
        "id": "w6MQVErAg785",
        "colab_type": "text"
      },
      "source": [
        "#Referencias \n",
        "[1]. https://www.isumsoft.com/windows-10/change-file-extension-for-one-or-multiple-files.html#:~:text=Another%20way%20to%20open%20the,name)%2C%20and%20press%20Enter.\n",
        "[2] https://towardsdatascience.com/3-ways-to-load-csv-files-into-colab-7c14fcbdcb92"
      ]
    }
  ]
}