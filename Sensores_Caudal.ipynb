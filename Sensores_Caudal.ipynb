{
  "nbformat": 4,
  "nbformat_minor": 0,
  "metadata": {
    "colab": {
      "name": "Sensores_Caudal.ipynb",
      "provenance": [],
      "collapsed_sections": [],
      "mount_file_id": "1jYfCjyrredH-zJn628p9iMEipp-QOTgL",
      "authorship_tag": "ABX9TyPlQNcOHbyR0v4BhIXPnebX",
      "include_colab_link": true
    },
    "kernelspec": {
      "name": "python3",
      "display_name": "Python 3"
    }
  },
  "cells": [
    {
      "cell_type": "markdown",
      "metadata": {
        "id": "view-in-github",
        "colab_type": "text"
      },
      "source": [
        "<a href=\"https://colab.research.google.com/github/j-river1/Sensores_Caudal/blob/master/Sensores_Caudal.ipynb\" target=\"_parent\"><img src=\"https://colab.research.google.com/assets/colab-badge.svg\" alt=\"Open In Colab\"/></a>"
      ]
    },
    {
      "cell_type": "markdown",
      "metadata": {
        "id": "PVouWM4fg8lJ",
        "colab_type": "text"
      },
      "source": [
        "#**Visualización y tratamiento de los datos de los sensores de caudal**\n",
        "\n",
        "\n",
        "\n",
        "##1. Preprocesamiento de los datos\n",
        "\n",
        ">Requisitos de formato y organzación de los archivos.\n",
        "\n",
        "El tipo de archivos para este procesamiento debe ser de tipo JSON ya que es el formato original de datos que proviene de los sensores. Si los archivos están guardados en otro tipo de extensión como TXT se debe cambiar a JSON, en esta [pagina](https://www.isumsoft.com/windows-10/change-file-extension-for-one-or-multiple-files.html#:~:text=Another%20way%20to%20open%20the,name)\n",
        " encontrará algunas herramientas para convertir multiples archivos simultáneamente. Además, todo los archivos deben estar guardado en una sola carpeta.\n",
        "\n",
        "\n"
      ]
    },
    {
      "cell_type": "markdown",
      "metadata": {
        "id": "_jO8VhF8Uu65",
        "colab_type": "text"
      },
      "source": [
        "##2. Lectura de datos\n"
      ]
    },
    {
      "cell_type": "code",
      "metadata": {
        "id": "cp2fAJhZUZRy",
        "colab_type": "code",
        "colab": {}
      },
      "source": [
        ""
      ],
      "execution_count": null,
      "outputs": []
    },
    {
      "cell_type": "markdown",
      "metadata": {
        "id": "BUBBLonVi71G",
        "colab_type": "text"
      },
      "source": [
        "### 1.2 Unión de los archivos JSON\n",
        "\n",
        "Una vez se tiene los archivos JSON se procede a unirlos en un solo archivo.  Generalmente los datos enviados desde\n",
        "los sensores están guardados por dia  y están organizados por meses, por ejemplo, en la siguiente figura se muestra los meses de enero a septiembre (a) y los nueve primeros dias del mes de septiembre.\n",
        "\n",
        "<div style=\"width: 100%; clear: both;\">\n",
        "<div style=\"float: left; width: 50%;\">\n",
        "<img src=\"https://github.com/j-river1/Sensores_Caudal/blob/master/OrganizacionFolderes_2.png?raw=true\", align=\"left\">\n",
        "\n"
      ]
    },
    {
      "cell_type": "markdown",
      "metadata": {
        "id": "l9TRTNgw8yvS",
        "colab_type": "text"
      },
      "source": [
        "> Lectura de los datos\n",
        "\n",
        "Para la lectura de los datos se debe guardar los datos en goolge Drive, como se muestra en la siguiente figura. Se debe ingresar por files y activar la opción de unmount Drive (1), una vez activada la opción aparece la carpeta drive (2).\n",
        "\n",
        "<div style=\"width: 100%; clear: both;\">\n",
        "<div style=\"float: left; width: 50%;\">\n",
        "<img src=\"https://github.com/j-river1/Sensores_Caudal/blob/master/ConexionDrive.png?raw=true\", align=\"left\">\n",
        "\n"
      ]
    },
    {
      "cell_type": "code",
      "metadata": {
        "id": "tOvkCKHwpCp8",
        "colab_type": "code",
        "colab": {
          "base_uri": "https://localhost:8080/",
          "height": 538
        },
        "outputId": "c6122392-fcaa-41e5-fa0a-450a832f1665"
      },
      "source": [
        "from os import listdir\n",
        "from os.path import isfile, join\n",
        "\n",
        "mypath = '/content/drive/My Drive/Datos sensores caudal/2019/01'\n",
        "\n",
        "onlyfiles = [f for f in listdir(mypath) if isfile(join(mypath, f))]\n",
        "\n",
        "onlyfiles \n"
      ],
      "execution_count": 5,
      "outputs": [
        {
          "output_type": "execute_result",
          "data": {
            "text/plain": [
              "['03.json',\n",
              " '18.json',\n",
              " '17.json',\n",
              " '20.json',\n",
              " '23.json',\n",
              " '04.json',\n",
              " '25.json',\n",
              " '10.json',\n",
              " '12.json',\n",
              " '02.json',\n",
              " '30.json',\n",
              " '07.json',\n",
              " '19.json',\n",
              " '09.json',\n",
              " '16.json',\n",
              " '24.json',\n",
              " '31.json',\n",
              " '22.json',\n",
              " '11.json',\n",
              " '21.json',\n",
              " '05.json',\n",
              " '29.json',\n",
              " '15.json',\n",
              " '13.json',\n",
              " '26.json',\n",
              " '06.json',\n",
              " '28.json',\n",
              " '14.json',\n",
              " '01.json',\n",
              " '08.json',\n",
              " '27.json']"
            ]
          },
          "metadata": {
            "tags": []
          },
          "execution_count": 5
        }
      ]
    },
    {
      "cell_type": "code",
      "metadata": {
        "id": "cwhNLS8htZkx",
        "colab_type": "code",
        "colab": {
          "base_uri": "https://localhost:8080/",
          "height": 34
        },
        "outputId": "fa2bc07a-1e90-4ab2-b872-5ec21e864942"
      },
      "source": [
        ""
      ],
      "execution_count": 6,
      "outputs": [
        {
          "output_type": "execute_result",
          "data": {
            "text/plain": [
              "<pydrive.drive.GoogleDrive at 0x7f1dadea3518>"
            ]
          },
          "metadata": {
            "tags": []
          },
          "execution_count": 6
        }
      ]
    },
    {
      "cell_type": "code",
      "metadata": {
        "id": "3-hadj5TtC0L",
        "colab_type": "code",
        "colab": {}
      },
      "source": [
        ""
      ],
      "execution_count": null,
      "outputs": []
    },
    {
      "cell_type": "markdown",
      "metadata": {
        "id": "83RAF1wIi75G",
        "colab_type": "text"
      },
      "source": [
        ""
      ]
    },
    {
      "cell_type": "markdown",
      "metadata": {
        "id": "w6MQVErAg785",
        "colab_type": "text"
      },
      "source": [
        "#Referencias \n",
        "[1]. https://www.isumsoft.com/windows-10/change-file-extension-for-one-or-multiple-files.html#:~:text=Another%20way%20to%20open%20the,name)%2C%20and%20press%20Enter.\n",
        "[2] https://towardsdatascience.com/3-ways-to-load-csv-files-into-colab-7c14fcbdcb92"
      ]
    }
  ]
}